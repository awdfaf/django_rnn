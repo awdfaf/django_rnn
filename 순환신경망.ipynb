{
 "cells": [
  {
   "cell_type": "code",
   "execution_count": 15,
   "id": "7240b9d6",
   "metadata": {},
   "outputs": [],
   "source": [
    "# 패키지 정의\n",
    "import numpy as np\n",
    "# Tokenizer : 문장에서 단어 분류하기\n",
    "from tensorflow.keras.preprocessing.text import Tokenizer\n",
    "from tensorflow.keras.preprocessing.sequence import pad_sequences\n",
    "from tensorflow.keras.utils import to_categorical\n",
    "from tensorflow import keras\n",
    "from tensorflow.keras.models import Sequential\n",
    "from tensorflow.keras.layers import Embedding, Dense, SimpleRNN"
   ]
  },
  {
   "cell_type": "code",
   "execution_count": 2,
   "id": "7f11979c",
   "metadata": {},
   "outputs": [
    {
     "name": "stdout",
     "output_type": "stream",
     "text": [
      "경마장에 있는 말이 뛰고 있다\n",
      "\n",
      "그의 말이 법이다\n",
      "\n",
      "가는 말이 고와야 오는 말이 곱다\n",
      "\n",
      "\n"
     ]
    },
    {
     "data": {
      "text/plain": [
       "'경마장에 있는 말이 뛰고 있다\\n\\n그의 말이 법이다\\n\\n가는 말이 고와야 오는 말이 곱다\\n\\n'"
      ]
     },
     "execution_count": 2,
     "metadata": {},
     "output_type": "execute_result"
    }
   ],
   "source": [
    "text = \"\"\"경마장에 있는 말이 뛰고 있다\\n\n",
    "그의 말이 법이다\\n\n",
    "가는 말이 고와야 오는 말이 곱다\\n\n",
    "\"\"\"\n",
    "print(text)\n",
    "text"
   ]
  },
  {
   "cell_type": "code",
   "execution_count": 3,
   "id": "11da8e81",
   "metadata": {},
   "outputs": [
    {
     "name": "stdout",
     "output_type": "stream",
     "text": [
      "{'말이': 1, '경마장에': 2, '있는': 3, '뛰고': 4, '있다': 5, '그의': 6, '법이다': 7, '가는': 8, '고와야': 9, '오는': 10, '곱다': 11}\n"
     ]
    }
   ],
   "source": [
    "# 문장에서 단어별 딕셔너리 생성\n",
    "# 딕셔너리 값은 각 단어의 고유 인덱스 값이 됨\n",
    "tokenizer = Tokenizer()\n",
    "tokenizer.fit_on_texts([text])\n",
    "print(tokenizer.word_index)"
   ]
  },
  {
   "cell_type": "code",
   "execution_count": 4,
   "id": "60a72a6d",
   "metadata": {},
   "outputs": [
    {
     "name": "stdout",
     "output_type": "stream",
     "text": [
      "단어 인덱스 총 크기 :  12\n"
     ]
    }
   ],
   "source": [
    "### 단어 크기(갯수) 저장\n",
    "\n",
    "vocab_size = len(tokenizer.word_index)+1\n",
    "print(\"단어 인덱스 총 크기 : \", vocab_size)"
   ]
  },
  {
   "cell_type": "code",
   "execution_count": 5,
   "id": "71d21c89",
   "metadata": {},
   "outputs": [
    {
     "name": "stdout",
     "output_type": "stream",
     "text": [
      "> [2, 3, 1, 4, 5]\n",
      "-> [2, 3]\n",
      "-->> [[2, 3]]\n",
      "-> [2, 3, 1]\n",
      "-->> [[2, 3], [2, 3, 1]]\n",
      "-> [2, 3, 1, 4]\n",
      "-->> [[2, 3], [2, 3, 1], [2, 3, 1, 4]]\n",
      "-> [2, 3, 1, 4, 5]\n",
      "-->> [[2, 3], [2, 3, 1], [2, 3, 1, 4], [2, 3, 1, 4, 5]]\n",
      "> []\n",
      "> [6, 1, 7]\n",
      "-> [6, 1]\n",
      "-->> [[2, 3], [2, 3, 1], [2, 3, 1, 4], [2, 3, 1, 4, 5], [6, 1]]\n",
      "-> [6, 1, 7]\n",
      "-->> [[2, 3], [2, 3, 1], [2, 3, 1, 4], [2, 3, 1, 4, 5], [6, 1], [6, 1, 7]]\n",
      "> []\n",
      "> [8, 1, 9, 10, 1, 11]\n",
      "-> [8, 1]\n",
      "-->> [[2, 3], [2, 3, 1], [2, 3, 1, 4], [2, 3, 1, 4, 5], [6, 1], [6, 1, 7], [8, 1]]\n",
      "-> [8, 1, 9]\n",
      "-->> [[2, 3], [2, 3, 1], [2, 3, 1, 4], [2, 3, 1, 4, 5], [6, 1], [6, 1, 7], [8, 1], [8, 1, 9]]\n",
      "-> [8, 1, 9, 10]\n",
      "-->> [[2, 3], [2, 3, 1], [2, 3, 1, 4], [2, 3, 1, 4, 5], [6, 1], [6, 1, 7], [8, 1], [8, 1, 9], [8, 1, 9, 10]]\n",
      "-> [8, 1, 9, 10, 1]\n",
      "-->> [[2, 3], [2, 3, 1], [2, 3, 1, 4], [2, 3, 1, 4, 5], [6, 1], [6, 1, 7], [8, 1], [8, 1, 9], [8, 1, 9, 10], [8, 1, 9, 10, 1]]\n",
      "-> [8, 1, 9, 10, 1, 11]\n",
      "-->> [[2, 3], [2, 3, 1], [2, 3, 1, 4], [2, 3, 1, 4, 5], [6, 1], [6, 1, 7], [8, 1], [8, 1, 9], [8, 1, 9, 10], [8, 1, 9, 10, 1], [8, 1, 9, 10, 1, 11]]\n",
      "> []\n",
      "> []\n",
      "학습에 사용할 샘플의 개수 : 11\n"
     ]
    }
   ],
   "source": [
    "### 단어를 숫자값으로 변환하여 연속된 단어별로 조합하기\n",
    "### - 모든 숫자의 조합 저장할 리스트 변수 정의\n",
    "sequences = []\n",
    "\n",
    "### 한글 문장을 줄바꿈(\\n)을 기준으로 문장 나누기\n",
    "for line in text.split(\"\\n\") :\n",
    "    encoded = tokenizer.texts_to_sequences([line])[0]\n",
    "    print(\">\",encoded)\n",
    "    \n",
    "    ### 문장 내 단어별 조합하기\n",
    "    for i in range(1, len(encoded)) :\n",
    "        ### 이전 단어의 인덱스 값을 연결하여 조합하기\n",
    "        sequence = encoded[:i+1]\n",
    "        print(\"->\", encoded[:i+1])\n",
    "        \n",
    "        ### 리스트 변수에 담기\n",
    "        sequences.append(sequence)\n",
    "        print(\"-->>\", sequences)\n",
    "        \n",
    "print(\"학습에 사용할 샘플의 개수 :\", len(sequences))"
   ]
  },
  {
   "cell_type": "code",
   "execution_count": 6,
   "id": "a35391af",
   "metadata": {},
   "outputs": [
    {
     "name": "stdout",
     "output_type": "stream",
     "text": [
      "[[2, 3], [2, 3, 1], [2, 3, 1, 4], [2, 3, 1, 4, 5], [6, 1], [6, 1, 7], [8, 1], [8, 1, 9], [8, 1, 9, 10], [8, 1, 9, 10, 1], [8, 1, 9, 10, 1, 11]]\n"
     ]
    }
   ],
   "source": [
    "print(sequences)"
   ]
  },
  {
   "cell_type": "code",
   "execution_count": 7,
   "id": "115d1489",
   "metadata": {},
   "outputs": [
    {
     "name": "stdout",
     "output_type": "stream",
     "text": [
      "샘플의 최대길이 찾기 :  6\n"
     ]
    }
   ],
   "source": [
    "# 문장의 최대길이 찾기\n",
    "max_len = max(len(i) for i in sequences)\n",
    "print(\"샘플의 최대길이 찾기 : \", max_len)"
   ]
  },
  {
   "cell_type": "code",
   "execution_count": 8,
   "id": "1bd5773a",
   "metadata": {},
   "outputs": [
    {
     "name": "stdout",
     "output_type": "stream",
     "text": [
      "[[ 0  0  0  0  2  3]\n",
      " [ 0  0  0  2  3  1]\n",
      " [ 0  0  2  3  1  4]\n",
      " [ 0  2  3  1  4  5]\n",
      " [ 0  0  0  0  6  1]\n",
      " [ 0  0  0  6  1  7]\n",
      " [ 0  0  0  0  8  1]\n",
      " [ 0  0  0  8  1  9]\n",
      " [ 0  0  8  1  9 10]\n",
      " [ 0  8  1  9 10  1]\n",
      " [ 8  1  9 10  1 11]]\n"
     ]
    }
   ],
   "source": [
    "# 길이를 최대길이로 통일 시키기\n",
    "sequences = pad_sequences(sequences, maxlen=max_len,padding=\"pre\")\n",
    "print(sequences)"
   ]
  },
  {
   "cell_type": "code",
   "execution_count": 9,
   "id": "e356964a",
   "metadata": {},
   "outputs": [
    {
     "name": "stdout",
     "output_type": "stream",
     "text": [
      "(11, 5) (11,)\n",
      "[[ 0  0  0  0  2]\n",
      " [ 0  0  0  2  3]\n",
      " [ 0  0  2  3  1]\n",
      " [ 0  2  3  1  4]\n",
      " [ 0  0  0  0  6]\n",
      " [ 0  0  0  6  1]\n",
      " [ 0  0  0  0  8]\n",
      " [ 0  0  0  8  1]\n",
      " [ 0  0  8  1  9]\n",
      " [ 0  8  1  9 10]\n",
      " [ 8  1  9 10  1]]\n",
      "[ 3  1  4  5  1  7  1  9 10  1 11]\n"
     ]
    }
   ],
   "source": [
    "# 훈련 입력 데이터 : x변수\n",
    "# 훈련 타겟 데이터 : y변수\n",
    "# 각 문장의 마지막 값을 y값으로 사용\n",
    "# 배열로 만들기\n",
    "# x : (11,5)\n",
    "# y : (11,)\n",
    "sequences = np.array(sequences)\n",
    "x = sequences[:,:-1]\n",
    "y = sequences[:,-1]\n",
    "print(x.shape,y.shape)\n",
    "print(x)\n",
    "print(y)"
   ]
  },
  {
   "cell_type": "code",
   "execution_count": 10,
   "id": "8b63685b",
   "metadata": {},
   "outputs": [
    {
     "name": "stdout",
     "output_type": "stream",
     "text": [
      "(11, 12)\n",
      "[[0. 0. 0. 1. 0. 0. 0. 0. 0. 0. 0. 0.]\n",
      " [0. 1. 0. 0. 0. 0. 0. 0. 0. 0. 0. 0.]\n",
      " [0. 0. 0. 0. 1. 0. 0. 0. 0. 0. 0. 0.]\n",
      " [0. 0. 0. 0. 0. 1. 0. 0. 0. 0. 0. 0.]\n",
      " [0. 1. 0. 0. 0. 0. 0. 0. 0. 0. 0. 0.]\n",
      " [0. 0. 0. 0. 0. 0. 0. 1. 0. 0. 0. 0.]\n",
      " [0. 1. 0. 0. 0. 0. 0. 0. 0. 0. 0. 0.]\n",
      " [0. 0. 0. 0. 0. 0. 0. 0. 0. 1. 0. 0.]\n",
      " [0. 0. 0. 0. 0. 0. 0. 0. 0. 0. 1. 0.]\n",
      " [0. 1. 0. 0. 0. 0. 0. 0. 0. 0. 0. 0.]\n",
      " [0. 0. 0. 0. 0. 0. 0. 0. 0. 0. 0. 1.]]\n"
     ]
    }
   ],
   "source": [
    "y = to_categorical(y,num_classes=vocab_size)\n",
    "print(y.shape)\n",
    "print(y)"
   ]
  },
  {
   "cell_type": "code",
   "execution_count": 11,
   "id": "49d488ff",
   "metadata": {},
   "outputs": [],
   "source": [
    "from tensorflow.keras.models import Sequential\n",
    "from tensorflow.keras.layers import Embedding, Dense, SimpleRNN\n",
    "\n",
    "model = Sequential()"
   ]
  },
  {
   "cell_type": "code",
   "execution_count": 12,
   "id": "6e4fc960",
   "metadata": {},
   "outputs": [
    {
     "name": "stdout",
     "output_type": "stream",
     "text": [
      "Model: \"sequential\"\n",
      "_________________________________________________________________\n",
      " Layer (type)                Output Shape              Param #   \n",
      "=================================================================\n",
      " embedding (Embedding)       (None, None, 10)          120       \n",
      "                                                                 \n",
      " simple_rnn (SimpleRNN)      (None, 32)                1376      \n",
      "                                                                 \n",
      " dense (Dense)               (None, 12)                396       \n",
      "                                                                 \n",
      "=================================================================\n",
      "Total params: 1,892\n",
      "Trainable params: 1,892\n",
      "Non-trainable params: 0\n",
      "_________________________________________________________________\n"
     ]
    }
   ],
   "source": [
    "# vocab_size : 주요 단어 12개 \n",
    "# 10 : 단어 임베딩 벡터(출력값)\n",
    "model.add(Embedding(vocab_size, 10))\n",
    "# 32 : RNN 출력값\n",
    "model.add(SimpleRNN(32))\n",
    "# 출력계층(종속변수 y의 개수만큼 출력)\n",
    "model.add(Dense(vocab_size,activation=\"softmax\"))\n",
    "model.summary()"
   ]
  },
  {
   "cell_type": "code",
   "execution_count": 13,
   "id": "24a13902",
   "metadata": {},
   "outputs": [
    {
     "name": "stdout",
     "output_type": "stream",
     "text": [
      "Epoch 1/200\n",
      "1/1 [==============================] - 1s 696ms/step - loss: 2.5087 - accuracy: 0.0000e+00\n",
      "Epoch 2/200\n",
      "1/1 [==============================] - 0s 10ms/step - loss: 2.4924 - accuracy: 0.0000e+00\n",
      "Epoch 3/200\n",
      "1/1 [==============================] - 0s 7ms/step - loss: 2.4764 - accuracy: 0.0000e+00\n",
      "Epoch 4/200\n",
      "1/1 [==============================] - 0s 5ms/step - loss: 2.4606 - accuracy: 0.0909\n",
      "Epoch 5/200\n",
      "1/1 [==============================] - 0s 4ms/step - loss: 2.4448 - accuracy: 0.2727\n",
      "Epoch 6/200\n",
      "1/1 [==============================] - 0s 4ms/step - loss: 2.4288 - accuracy: 0.3636\n",
      "Epoch 7/200\n",
      "1/1 [==============================] - 0s 3ms/step - loss: 2.4125 - accuracy: 0.3636\n",
      "Epoch 8/200\n",
      "1/1 [==============================] - 0s 5ms/step - loss: 2.3958 - accuracy: 0.3636\n",
      "Epoch 9/200\n",
      "1/1 [==============================] - 0s 4ms/step - loss: 2.3786 - accuracy: 0.3636\n",
      "Epoch 10/200\n",
      "1/1 [==============================] - 0s 4ms/step - loss: 2.3609 - accuracy: 0.3636\n",
      "Epoch 11/200\n",
      "1/1 [==============================] - 0s 4ms/step - loss: 2.3424 - accuracy: 0.3636\n",
      "Epoch 12/200\n",
      "1/1 [==============================] - 0s 5ms/step - loss: 2.3232 - accuracy: 0.3636\n",
      "Epoch 13/200\n",
      "1/1 [==============================] - 0s 5ms/step - loss: 2.3031 - accuracy: 0.3636\n",
      "Epoch 14/200\n",
      "1/1 [==============================] - 0s 4ms/step - loss: 2.2822 - accuracy: 0.3636\n",
      "Epoch 15/200\n",
      "1/1 [==============================] - 0s 4ms/step - loss: 2.2604 - accuracy: 0.3636\n",
      "Epoch 16/200\n",
      "1/1 [==============================] - 0s 5ms/step - loss: 2.2378 - accuracy: 0.3636\n",
      "Epoch 17/200\n",
      "1/1 [==============================] - 0s 4ms/step - loss: 2.2143 - accuracy: 0.3636\n",
      "Epoch 18/200\n",
      "1/1 [==============================] - 0s 3ms/step - loss: 2.1902 - accuracy: 0.3636\n",
      "Epoch 19/200\n",
      "1/1 [==============================] - 0s 3ms/step - loss: 2.1654 - accuracy: 0.3636\n",
      "Epoch 20/200\n",
      "1/1 [==============================] - 0s 5ms/step - loss: 2.1404 - accuracy: 0.3636\n",
      "Epoch 21/200\n",
      "1/1 [==============================] - 0s 4ms/step - loss: 2.1152 - accuracy: 0.3636\n",
      "Epoch 22/200\n",
      "1/1 [==============================] - 0s 4ms/step - loss: 2.0904 - accuracy: 0.3636\n",
      "Epoch 23/200\n",
      "1/1 [==============================] - 0s 4ms/step - loss: 2.0662 - accuracy: 0.3636\n",
      "Epoch 24/200\n",
      "1/1 [==============================] - 0s 4ms/step - loss: 2.0432 - accuracy: 0.3636\n",
      "Epoch 25/200\n",
      "1/1 [==============================] - 0s 3ms/step - loss: 2.0217 - accuracy: 0.3636\n",
      "Epoch 26/200\n",
      "1/1 [==============================] - 0s 3ms/step - loss: 2.0022 - accuracy: 0.3636\n",
      "Epoch 27/200\n",
      "1/1 [==============================] - 0s 4ms/step - loss: 1.9848 - accuracy: 0.3636\n",
      "Epoch 28/200\n",
      "1/1 [==============================] - 0s 4ms/step - loss: 1.9695 - accuracy: 0.3636\n",
      "Epoch 29/200\n",
      "1/1 [==============================] - 0s 4ms/step - loss: 1.9561 - accuracy: 0.3636\n",
      "Epoch 30/200\n",
      "1/1 [==============================] - 0s 4ms/step - loss: 1.9439 - accuracy: 0.3636\n",
      "Epoch 31/200\n",
      "1/1 [==============================] - 0s 3ms/step - loss: 1.9321 - accuracy: 0.3636\n",
      "Epoch 32/200\n",
      "1/1 [==============================] - 0s 4ms/step - loss: 1.9201 - accuracy: 0.3636\n",
      "Epoch 33/200\n",
      "1/1 [==============================] - 0s 3ms/step - loss: 1.9071 - accuracy: 0.3636\n",
      "Epoch 34/200\n",
      "1/1 [==============================] - 0s 3ms/step - loss: 1.8930 - accuracy: 0.3636\n",
      "Epoch 35/200\n",
      "1/1 [==============================] - 0s 3ms/step - loss: 1.8778 - accuracy: 0.3636\n",
      "Epoch 36/200\n",
      "1/1 [==============================] - 0s 4ms/step - loss: 1.8616 - accuracy: 0.3636\n",
      "Epoch 37/200\n",
      "1/1 [==============================] - 0s 3ms/step - loss: 1.8449 - accuracy: 0.3636\n",
      "Epoch 38/200\n",
      "1/1 [==============================] - 0s 4ms/step - loss: 1.8281 - accuracy: 0.3636\n",
      "Epoch 39/200\n",
      "1/1 [==============================] - 0s 3ms/step - loss: 1.8115 - accuracy: 0.3636\n",
      "Epoch 40/200\n",
      "1/1 [==============================] - 0s 3ms/step - loss: 1.7953 - accuracy: 0.3636\n",
      "Epoch 41/200\n",
      "1/1 [==============================] - 0s 3ms/step - loss: 1.7798 - accuracy: 0.3636\n",
      "Epoch 42/200\n",
      "1/1 [==============================] - 0s 3ms/step - loss: 1.7649 - accuracy: 0.3636\n",
      "Epoch 43/200\n",
      "1/1 [==============================] - 0s 3ms/step - loss: 1.7505 - accuracy: 0.4545\n",
      "Epoch 44/200\n",
      "1/1 [==============================] - 0s 4ms/step - loss: 1.7364 - accuracy: 0.4545\n",
      "Epoch 45/200\n",
      "1/1 [==============================] - 0s 4ms/step - loss: 1.7223 - accuracy: 0.4545\n",
      "Epoch 46/200\n",
      "1/1 [==============================] - 0s 4ms/step - loss: 1.7081 - accuracy: 0.4545\n",
      "Epoch 47/200\n",
      "1/1 [==============================] - 0s 3ms/step - loss: 1.6935 - accuracy: 0.4545\n",
      "Epoch 48/200\n",
      "1/1 [==============================] - 0s 3ms/step - loss: 1.6784 - accuracy: 0.4545\n",
      "Epoch 49/200\n",
      "1/1 [==============================] - 0s 3ms/step - loss: 1.6627 - accuracy: 0.4545\n",
      "Epoch 50/200\n",
      "1/1 [==============================] - 0s 2ms/step - loss: 1.6465 - accuracy: 0.4545\n",
      "Epoch 51/200\n",
      "1/1 [==============================] - 0s 4ms/step - loss: 1.6298 - accuracy: 0.4545\n",
      "Epoch 52/200\n",
      "1/1 [==============================] - 0s 4ms/step - loss: 1.6126 - accuracy: 0.4545\n",
      "Epoch 53/200\n",
      "1/1 [==============================] - 0s 3ms/step - loss: 1.5951 - accuracy: 0.4545\n",
      "Epoch 54/200\n",
      "1/1 [==============================] - 0s 4ms/step - loss: 1.5773 - accuracy: 0.4545\n",
      "Epoch 55/200\n",
      "1/1 [==============================] - 0s 3ms/step - loss: 1.5592 - accuracy: 0.4545\n",
      "Epoch 56/200\n",
      "1/1 [==============================] - 0s 2ms/step - loss: 1.5410 - accuracy: 0.4545\n",
      "Epoch 57/200\n",
      "1/1 [==============================] - 0s 4ms/step - loss: 1.5226 - accuracy: 0.4545\n",
      "Epoch 58/200\n",
      "1/1 [==============================] - 0s 4ms/step - loss: 1.5039 - accuracy: 0.4545\n",
      "Epoch 59/200\n",
      "1/1 [==============================] - 0s 3ms/step - loss: 1.4851 - accuracy: 0.4545\n",
      "Epoch 60/200\n",
      "1/1 [==============================] - 0s 3ms/step - loss: 1.4659 - accuracy: 0.4545\n",
      "Epoch 61/200\n",
      "1/1 [==============================] - 0s 3ms/step - loss: 1.4465 - accuracy: 0.4545\n",
      "Epoch 62/200\n",
      "1/1 [==============================] - 0s 4ms/step - loss: 1.4268 - accuracy: 0.4545\n",
      "Epoch 63/200\n",
      "1/1 [==============================] - 0s 3ms/step - loss: 1.4068 - accuracy: 0.5455\n",
      "Epoch 64/200\n",
      "1/1 [==============================] - 0s 3ms/step - loss: 1.3866 - accuracy: 0.5455\n",
      "Epoch 65/200\n",
      "1/1 [==============================] - 0s 3ms/step - loss: 1.3662 - accuracy: 0.5455\n",
      "Epoch 66/200\n",
      "1/1 [==============================] - 0s 3ms/step - loss: 1.3456 - accuracy: 0.6364\n",
      "Epoch 67/200\n",
      "1/1 [==============================] - 0s 3ms/step - loss: 1.3249 - accuracy: 0.6364\n",
      "Epoch 68/200\n",
      "1/1 [==============================] - 0s 2ms/step - loss: 1.3041 - accuracy: 0.6364\n",
      "Epoch 69/200\n",
      "1/1 [==============================] - 0s 3ms/step - loss: 1.2834 - accuracy: 0.6364\n",
      "Epoch 70/200\n",
      "1/1 [==============================] - 0s 4ms/step - loss: 1.2626 - accuracy: 0.6364\n",
      "Epoch 71/200\n",
      "1/1 [==============================] - 0s 4ms/step - loss: 1.2418 - accuracy: 0.6364\n",
      "Epoch 72/200\n",
      "1/1 [==============================] - 0s 3ms/step - loss: 1.2211 - accuracy: 0.6364\n",
      "Epoch 73/200\n",
      "1/1 [==============================] - 0s 3ms/step - loss: 1.2004 - accuracy: 0.6364\n",
      "Epoch 74/200\n",
      "1/1 [==============================] - 0s 2ms/step - loss: 1.1797 - accuracy: 0.6364\n",
      "Epoch 75/200\n",
      "1/1 [==============================] - 0s 4ms/step - loss: 1.1592 - accuracy: 0.6364\n",
      "Epoch 76/200\n",
      "1/1 [==============================] - 0s 2ms/step - loss: 1.1387 - accuracy: 0.6364\n",
      "Epoch 77/200\n",
      "1/1 [==============================] - 0s 3ms/step - loss: 1.1184 - accuracy: 0.6364\n",
      "Epoch 78/200\n",
      "1/1 [==============================] - 0s 3ms/step - loss: 1.0982 - accuracy: 0.6364\n",
      "Epoch 79/200\n",
      "1/1 [==============================] - 0s 4ms/step - loss: 1.0782 - accuracy: 0.6364\n",
      "Epoch 80/200\n",
      "1/1 [==============================] - 0s 3ms/step - loss: 1.0584 - accuracy: 0.6364\n",
      "Epoch 81/200\n",
      "1/1 [==============================] - 0s 4ms/step - loss: 1.0389 - accuracy: 0.7273\n",
      "Epoch 82/200\n",
      "1/1 [==============================] - 0s 3ms/step - loss: 1.0196 - accuracy: 0.7273\n",
      "Epoch 83/200\n",
      "1/1 [==============================] - 0s 3ms/step - loss: 1.0006 - accuracy: 0.8182\n",
      "Epoch 84/200\n"
     ]
    },
    {
     "name": "stdout",
     "output_type": "stream",
     "text": [
      "1/1 [==============================] - 0s 3ms/step - loss: 0.9818 - accuracy: 0.8182\n",
      "Epoch 85/200\n",
      "1/1 [==============================] - 0s 3ms/step - loss: 0.9633 - accuracy: 0.9091\n",
      "Epoch 86/200\n",
      "1/1 [==============================] - 0s 3ms/step - loss: 0.9452 - accuracy: 0.8182\n",
      "Epoch 87/200\n",
      "1/1 [==============================] - 0s 4ms/step - loss: 0.9273 - accuracy: 0.8182\n",
      "Epoch 88/200\n",
      "1/1 [==============================] - 0s 2ms/step - loss: 0.9097 - accuracy: 0.8182\n",
      "Epoch 89/200\n",
      "1/1 [==============================] - 0s 3ms/step - loss: 0.8923 - accuracy: 0.8182\n",
      "Epoch 90/200\n",
      "1/1 [==============================] - 0s 4ms/step - loss: 0.8753 - accuracy: 0.8182\n",
      "Epoch 91/200\n",
      "1/1 [==============================] - 0s 3ms/step - loss: 0.8585 - accuracy: 0.8182\n",
      "Epoch 92/200\n",
      "1/1 [==============================] - 0s 2ms/step - loss: 0.8421 - accuracy: 0.8182\n",
      "Epoch 93/200\n",
      "1/1 [==============================] - 0s 3ms/step - loss: 0.8259 - accuracy: 0.8182\n",
      "Epoch 94/200\n",
      "1/1 [==============================] - 0s 2ms/step - loss: 0.8100 - accuracy: 0.8182\n",
      "Epoch 95/200\n",
      "1/1 [==============================] - 0s 3ms/step - loss: 0.7944 - accuracy: 0.8182\n",
      "Epoch 96/200\n",
      "1/1 [==============================] - 0s 2ms/step - loss: 0.7790 - accuracy: 0.8182\n",
      "Epoch 97/200\n",
      "1/1 [==============================] - 0s 3ms/step - loss: 0.7640 - accuracy: 0.8182\n",
      "Epoch 98/200\n",
      "1/1 [==============================] - 0s 4ms/step - loss: 0.7492 - accuracy: 0.8182\n",
      "Epoch 99/200\n",
      "1/1 [==============================] - 0s 4ms/step - loss: 0.7348 - accuracy: 0.8182\n",
      "Epoch 100/200\n",
      "1/1 [==============================] - 0s 3ms/step - loss: 0.7206 - accuracy: 0.8182\n",
      "Epoch 101/200\n",
      "1/1 [==============================] - 0s 3ms/step - loss: 0.7067 - accuracy: 0.8182\n",
      "Epoch 102/200\n",
      "1/1 [==============================] - 0s 3ms/step - loss: 0.6932 - accuracy: 0.8182\n",
      "Epoch 103/200\n",
      "1/1 [==============================] - 0s 3ms/step - loss: 0.6799 - accuracy: 0.8182\n",
      "Epoch 104/200\n",
      "1/1 [==============================] - 0s 3ms/step - loss: 0.6669 - accuracy: 0.8182\n",
      "Epoch 105/200\n",
      "1/1 [==============================] - 0s 3ms/step - loss: 0.6543 - accuracy: 0.8182\n",
      "Epoch 106/200\n",
      "1/1 [==============================] - 0s 4ms/step - loss: 0.6419 - accuracy: 0.8182\n",
      "Epoch 107/200\n",
      "1/1 [==============================] - 0s 4ms/step - loss: 0.6298 - accuracy: 0.8182\n",
      "Epoch 108/200\n",
      "1/1 [==============================] - 0s 3ms/step - loss: 0.6181 - accuracy: 0.8182\n",
      "Epoch 109/200\n",
      "1/1 [==============================] - 0s 3ms/step - loss: 0.6067 - accuracy: 0.8182\n",
      "Epoch 110/200\n",
      "1/1 [==============================] - 0s 4ms/step - loss: 0.5955 - accuracy: 0.8182\n",
      "Epoch 111/200\n",
      "1/1 [==============================] - 0s 4ms/step - loss: 0.5847 - accuracy: 0.8182\n",
      "Epoch 112/200\n",
      "1/1 [==============================] - 0s 3ms/step - loss: 0.5741 - accuracy: 0.8182\n",
      "Epoch 113/200\n",
      "1/1 [==============================] - 0s 4ms/step - loss: 0.5638 - accuracy: 0.8182\n",
      "Epoch 114/200\n",
      "1/1 [==============================] - 0s 3ms/step - loss: 0.5539 - accuracy: 0.8182\n",
      "Epoch 115/200\n",
      "1/1 [==============================] - 0s 4ms/step - loss: 0.5442 - accuracy: 0.8182\n",
      "Epoch 116/200\n",
      "1/1 [==============================] - 0s 4ms/step - loss: 0.5347 - accuracy: 0.8182\n",
      "Epoch 117/200\n",
      "1/1 [==============================] - 0s 3ms/step - loss: 0.5256 - accuracy: 0.8182\n",
      "Epoch 118/200\n",
      "1/1 [==============================] - 0s 3ms/step - loss: 0.5167 - accuracy: 0.8182\n",
      "Epoch 119/200\n",
      "1/1 [==============================] - 0s 3ms/step - loss: 0.5080 - accuracy: 0.8182\n",
      "Epoch 120/200\n",
      "1/1 [==============================] - 0s 3ms/step - loss: 0.4996 - accuracy: 0.8182\n",
      "Epoch 121/200\n",
      "1/1 [==============================] - 0s 3ms/step - loss: 0.4914 - accuracy: 0.8182\n",
      "Epoch 122/200\n",
      "1/1 [==============================] - 0s 4ms/step - loss: 0.4835 - accuracy: 0.8182\n",
      "Epoch 123/200\n",
      "1/1 [==============================] - 0s 3ms/step - loss: 0.4758 - accuracy: 0.8182\n",
      "Epoch 124/200\n",
      "1/1 [==============================] - 0s 2ms/step - loss: 0.4683 - accuracy: 0.8182\n",
      "Epoch 125/200\n",
      "1/1 [==============================] - 0s 4ms/step - loss: 0.4610 - accuracy: 0.8182\n",
      "Epoch 126/200\n",
      "1/1 [==============================] - 0s 3ms/step - loss: 0.4539 - accuracy: 0.9091\n",
      "Epoch 127/200\n",
      "1/1 [==============================] - 0s 3ms/step - loss: 0.4470 - accuracy: 0.9091\n",
      "Epoch 128/200\n",
      "1/1 [==============================] - 0s 3ms/step - loss: 0.4403 - accuracy: 0.9091\n",
      "Epoch 129/200\n",
      "1/1 [==============================] - 0s 3ms/step - loss: 0.4338 - accuracy: 0.9091\n",
      "Epoch 130/200\n",
      "1/1 [==============================] - 0s 3ms/step - loss: 0.4274 - accuracy: 0.9091\n",
      "Epoch 131/200\n",
      "1/1 [==============================] - 0s 3ms/step - loss: 0.4213 - accuracy: 0.9091\n",
      "Epoch 132/200\n",
      "1/1 [==============================] - 0s 3ms/step - loss: 0.4152 - accuracy: 0.9091\n",
      "Epoch 133/200\n",
      "1/1 [==============================] - 0s 2ms/step - loss: 0.4093 - accuracy: 0.9091\n",
      "Epoch 134/200\n",
      "1/1 [==============================] - 0s 4ms/step - loss: 0.4036 - accuracy: 0.9091\n",
      "Epoch 135/200\n",
      "1/1 [==============================] - 0s 3ms/step - loss: 0.3980 - accuracy: 0.9091\n",
      "Epoch 136/200\n",
      "1/1 [==============================] - 0s 4ms/step - loss: 0.3925 - accuracy: 0.9091\n",
      "Epoch 137/200\n",
      "1/1 [==============================] - 0s 3ms/step - loss: 0.3871 - accuracy: 0.9091\n",
      "Epoch 138/200\n",
      "1/1 [==============================] - 0s 3ms/step - loss: 0.3819 - accuracy: 0.9091\n",
      "Epoch 139/200\n",
      "1/1 [==============================] - 0s 3ms/step - loss: 0.3768 - accuracy: 0.9091\n",
      "Epoch 140/200\n",
      "1/1 [==============================] - 0s 3ms/step - loss: 0.3717 - accuracy: 0.9091\n",
      "Epoch 141/200\n",
      "1/1 [==============================] - 0s 2ms/step - loss: 0.3668 - accuracy: 0.9091\n",
      "Epoch 142/200\n",
      "1/1 [==============================] - 0s 3ms/step - loss: 0.3619 - accuracy: 0.9091\n",
      "Epoch 143/200\n",
      "1/1 [==============================] - 0s 2ms/step - loss: 0.3572 - accuracy: 0.9091\n",
      "Epoch 144/200\n",
      "1/1 [==============================] - 0s 4ms/step - loss: 0.3525 - accuracy: 0.9091\n",
      "Epoch 145/200\n",
      "1/1 [==============================] - 0s 3ms/step - loss: 0.3479 - accuracy: 0.9091\n",
      "Epoch 146/200\n",
      "1/1 [==============================] - 0s 3ms/step - loss: 0.3433 - accuracy: 0.9091\n",
      "Epoch 147/200\n",
      "1/1 [==============================] - 0s 3ms/step - loss: 0.3389 - accuracy: 0.9091\n",
      "Epoch 148/200\n",
      "1/1 [==============================] - 0s 3ms/step - loss: 0.3345 - accuracy: 0.9091\n",
      "Epoch 149/200\n",
      "1/1 [==============================] - 0s 3ms/step - loss: 0.3301 - accuracy: 0.9091\n",
      "Epoch 150/200\n",
      "1/1 [==============================] - 0s 3ms/step - loss: 0.3259 - accuracy: 0.9091\n",
      "Epoch 151/200\n",
      "1/1 [==============================] - 0s 3ms/step - loss: 0.3216 - accuracy: 0.9091\n",
      "Epoch 152/200\n",
      "1/1 [==============================] - 0s 3ms/step - loss: 0.3174 - accuracy: 0.9091\n",
      "Epoch 153/200\n",
      "1/1 [==============================] - 0s 3ms/step - loss: 0.3133 - accuracy: 0.9091\n",
      "Epoch 154/200\n",
      "1/1 [==============================] - 0s 6ms/step - loss: 0.3092 - accuracy: 0.9091\n",
      "Epoch 155/200\n",
      "1/1 [==============================] - 0s 4ms/step - loss: 0.3052 - accuracy: 0.9091\n",
      "Epoch 156/200\n",
      "1/1 [==============================] - 0s 3ms/step - loss: 0.3012 - accuracy: 0.9091\n",
      "Epoch 157/200\n",
      "1/1 [==============================] - 0s 3ms/step - loss: 0.2972 - accuracy: 0.9091\n",
      "Epoch 158/200\n",
      "1/1 [==============================] - 0s 3ms/step - loss: 0.2933 - accuracy: 0.9091\n",
      "Epoch 159/200\n",
      "1/1 [==============================] - 0s 3ms/step - loss: 0.2894 - accuracy: 1.0000\n",
      "Epoch 160/200\n",
      "1/1 [==============================] - 0s 3ms/step - loss: 0.2855 - accuracy: 1.0000\n",
      "Epoch 161/200\n",
      "1/1 [==============================] - 0s 3ms/step - loss: 0.2817 - accuracy: 1.0000\n",
      "Epoch 162/200\n",
      "1/1 [==============================] - 0s 4ms/step - loss: 0.2779 - accuracy: 1.0000\n",
      "Epoch 163/200\n",
      "1/1 [==============================] - 0s 3ms/step - loss: 0.2741 - accuracy: 1.0000\n",
      "Epoch 164/200\n",
      "1/1 [==============================] - 0s 4ms/step - loss: 0.2703 - accuracy: 1.0000\n",
      "Epoch 165/200\n",
      "1/1 [==============================] - 0s 3ms/step - loss: 0.2666 - accuracy: 1.0000\n",
      "Epoch 166/200\n",
      "1/1 [==============================] - 0s 3ms/step - loss: 0.2628 - accuracy: 1.0000\n",
      "Epoch 167/200\n"
     ]
    },
    {
     "name": "stdout",
     "output_type": "stream",
     "text": [
      "1/1 [==============================] - 0s 2ms/step - loss: 0.2591 - accuracy: 1.0000\n",
      "Epoch 168/200\n",
      "1/1 [==============================] - 0s 3ms/step - loss: 0.2554 - accuracy: 1.0000\n",
      "Epoch 169/200\n",
      "1/1 [==============================] - 0s 2ms/step - loss: 0.2518 - accuracy: 1.0000\n",
      "Epoch 170/200\n",
      "1/1 [==============================] - 0s 2ms/step - loss: 0.2481 - accuracy: 1.0000\n",
      "Epoch 171/200\n",
      "1/1 [==============================] - 0s 3ms/step - loss: 0.2445 - accuracy: 1.0000\n",
      "Epoch 172/200\n",
      "1/1 [==============================] - 0s 4ms/step - loss: 0.2409 - accuracy: 1.0000\n",
      "Epoch 173/200\n",
      "1/1 [==============================] - 0s 3ms/step - loss: 0.2373 - accuracy: 1.0000\n",
      "Epoch 174/200\n",
      "1/1 [==============================] - 0s 2ms/step - loss: 0.2337 - accuracy: 1.0000\n",
      "Epoch 175/200\n",
      "1/1 [==============================] - 0s 2ms/step - loss: 0.2301 - accuracy: 1.0000\n",
      "Epoch 176/200\n",
      "1/1 [==============================] - 0s 3ms/step - loss: 0.2265 - accuracy: 1.0000\n",
      "Epoch 177/200\n",
      "1/1 [==============================] - 0s 2ms/step - loss: 0.2230 - accuracy: 1.0000\n",
      "Epoch 178/200\n",
      "1/1 [==============================] - 0s 2ms/step - loss: 0.2195 - accuracy: 1.0000\n",
      "Epoch 179/200\n",
      "1/1 [==============================] - 0s 2ms/step - loss: 0.2160 - accuracy: 1.0000\n",
      "Epoch 180/200\n",
      "1/1 [==============================] - 0s 3ms/step - loss: 0.2125 - accuracy: 1.0000\n",
      "Epoch 181/200\n",
      "1/1 [==============================] - 0s 3ms/step - loss: 0.2090 - accuracy: 1.0000\n",
      "Epoch 182/200\n",
      "1/1 [==============================] - 0s 3ms/step - loss: 0.2056 - accuracy: 1.0000\n",
      "Epoch 183/200\n",
      "1/1 [==============================] - 0s 4ms/step - loss: 0.2021 - accuracy: 1.0000\n",
      "Epoch 184/200\n",
      "1/1 [==============================] - 0s 3ms/step - loss: 0.1987 - accuracy: 1.0000\n",
      "Epoch 185/200\n",
      "1/1 [==============================] - 0s 2ms/step - loss: 0.1953 - accuracy: 1.0000\n",
      "Epoch 186/200\n",
      "1/1 [==============================] - 0s 3ms/step - loss: 0.1920 - accuracy: 1.0000\n",
      "Epoch 187/200\n",
      "1/1 [==============================] - 0s 3ms/step - loss: 0.1887 - accuracy: 1.0000\n",
      "Epoch 188/200\n",
      "1/1 [==============================] - 0s 2ms/step - loss: 0.1854 - accuracy: 1.0000\n",
      "Epoch 189/200\n",
      "1/1 [==============================] - 0s 4ms/step - loss: 0.1821 - accuracy: 1.0000\n",
      "Epoch 190/200\n",
      "1/1 [==============================] - 0s 3ms/step - loss: 0.1788 - accuracy: 1.0000\n",
      "Epoch 191/200\n",
      "1/1 [==============================] - 0s 3ms/step - loss: 0.1756 - accuracy: 1.0000\n",
      "Epoch 192/200\n",
      "1/1 [==============================] - 0s 4ms/step - loss: 0.1725 - accuracy: 1.0000\n",
      "Epoch 193/200\n",
      "1/1 [==============================] - 0s 4ms/step - loss: 0.1693 - accuracy: 1.0000\n",
      "Epoch 194/200\n",
      "1/1 [==============================] - 0s 3ms/step - loss: 0.1662 - accuracy: 1.0000\n",
      "Epoch 195/200\n",
      "1/1 [==============================] - 0s 3ms/step - loss: 0.1632 - accuracy: 1.0000\n",
      "Epoch 196/200\n",
      "1/1 [==============================] - 0s 2ms/step - loss: 0.1602 - accuracy: 1.0000\n",
      "Epoch 197/200\n",
      "1/1 [==============================] - 0s 2ms/step - loss: 0.1572 - accuracy: 1.0000\n",
      "Epoch 198/200\n",
      "1/1 [==============================] - 0s 3ms/step - loss: 0.1543 - accuracy: 1.0000\n",
      "Epoch 199/200\n",
      "1/1 [==============================] - 0s 3ms/step - loss: 0.1514 - accuracy: 1.0000\n",
      "Epoch 200/200\n",
      "1/1 [==============================] - 0s 4ms/step - loss: 0.1485 - accuracy: 1.0000\n"
     ]
    },
    {
     "data": {
      "text/plain": [
       "<keras.callbacks.History at 0x23359024370>"
      ]
     },
     "execution_count": 13,
     "metadata": {},
     "output_type": "execute_result"
    }
   ],
   "source": [
    "# 모델 설정 : 컴파일\n",
    "model.compile(optimizer=\"adam\",\n",
    "             loss=\"categorical_crossentropy\",\n",
    "             metrics=[\"accuracy\"])\n",
    "# 모델 훈련\n",
    "# verbose : 출력 형태 지정\n",
    "model.fit(x,y,epochs=200,verbose=1)"
   ]
  },
  {
   "cell_type": "code",
   "execution_count": 16,
   "id": "b1c7bd81",
   "metadata": {},
   "outputs": [],
   "source": [
    "# 모델 저장 및 불러오기\n",
    "\n",
    "# 훈련 모델 저장하기\n",
    "keras.models.save_model(model, \"./model/django_rnn_model.h5\")"
   ]
  },
  {
   "cell_type": "code",
   "execution_count": null,
   "id": "64385881",
   "metadata": {},
   "outputs": [],
   "source": [
    "# 훈련 모델 불러오기\n",
    "model = keras.models.load_model(\"./model/django_rnn_model.h5\")"
   ]
  },
  {
   "cell_type": "code",
   "execution_count": 28,
   "id": "a4f12aac",
   "metadata": {},
   "outputs": [],
   "source": [
    "# 예측할 단어로부터 다음 단어를 예측하기위한 함수\n",
    "# 매개변수 : 모델, 토큰나이저, 전달받은 단어, 반복할 횟수\n",
    "def sentence_generator(model, tokenizer, current_word, n):\n",
    "    init_word = current_word\n",
    "    sentence = \"\"\n",
    "    \n",
    "    # 전달받은 값 n번 반복시키기\n",
    "    for _ in range(n):\n",
    "        # 현재입력 받은 단어에 대한 정수 인코딩\n",
    "        encoded = tokenizer.texts_to_sequences([current_word])[0]\n",
    "        # 단어 자르기 : x값은 5개\n",
    "        encoded = pad_sequences([encoded], maxlen=5, padding=\"pre\")\n",
    "        # 에측하기\n",
    "        result = model.predict(encoded, verbose=0)\n",
    "        # 예측결과 중 가장 빈도가 큰 값 결정\n",
    "        result = np.argmax(result, axis=1)\n",
    "        \n",
    "        for word, index in tokenizer.word_index.items():\n",
    "            # 만약 예측한 단어와 인덱스와 동일한 단어가 있다면 break\n",
    "            if index == result:\n",
    "                break\n",
    "                \n",
    "        # 현재 입력된 단어와 예측 단어 조합하기\n",
    "        current_word = current_word + \" \" + word\n",
    "        \n",
    "        # 예측 단어 조합을 변수에 저장\n",
    "        sentence = sentence + \" \" + word\n",
    "    # 함수가 전달받은 단어에 대한 조합할 단어 합치기\n",
    "    sentence = init_word + sentence\n",
    "    \n",
    "    return sentence"
   ]
  },
  {
   "cell_type": "code",
   "execution_count": 29,
   "id": "1d3dbf22",
   "metadata": {},
   "outputs": [
    {
     "name": "stdout",
     "output_type": "stream",
     "text": [
      "경마장에 있는 말이 뛰고 있다\n"
     ]
    }
   ],
   "source": [
    "# 함수 실행하기\n",
    "print(sentence_generator(model,tokenizer,\"경마장에\",4))"
   ]
  },
  {
   "cell_type": "code",
   "execution_count": 30,
   "id": "178ddc43",
   "metadata": {},
   "outputs": [
    {
     "name": "stdout",
     "output_type": "stream",
     "text": [
      "Model: \"sequential\"\n",
      "_________________________________________________________________\n",
      " Layer (type)                Output Shape              Param #   \n",
      "=================================================================\n",
      " embedding (Embedding)       (None, None, 10)          120       \n",
      "                                                                 \n",
      " simple_rnn (SimpleRNN)      (None, 32)                1376      \n",
      "                                                                 \n",
      " dense (Dense)               (None, 12)                396       \n",
      "                                                                 \n",
      "=================================================================\n",
      "Total params: 1,892\n",
      "Trainable params: 1,892\n",
      "Non-trainable params: 0\n",
      "_________________________________________________________________\n"
     ]
    }
   ],
   "source": [
    "model.summary()"
   ]
  },
  {
   "cell_type": "code",
   "execution_count": null,
   "id": "84d59865",
   "metadata": {},
   "outputs": [],
   "source": []
  },
  {
   "cell_type": "code",
   "execution_count": null,
   "id": "30dcf59e",
   "metadata": {},
   "outputs": [],
   "source": []
  },
  {
   "cell_type": "code",
   "execution_count": null,
   "id": "6dd3ebc2",
   "metadata": {},
   "outputs": [],
   "source": []
  },
  {
   "cell_type": "code",
   "execution_count": null,
   "id": "c0b149a4",
   "metadata": {},
   "outputs": [],
   "source": []
  },
  {
   "cell_type": "code",
   "execution_count": null,
   "id": "fcd1a92d",
   "metadata": {},
   "outputs": [],
   "source": []
  },
  {
   "cell_type": "code",
   "execution_count": null,
   "id": "7ec7af88",
   "metadata": {},
   "outputs": [],
   "source": []
  },
  {
   "cell_type": "code",
   "execution_count": null,
   "id": "873d2baa",
   "metadata": {},
   "outputs": [],
   "source": []
  },
  {
   "cell_type": "code",
   "execution_count": null,
   "id": "91b28904",
   "metadata": {},
   "outputs": [],
   "source": []
  },
  {
   "cell_type": "code",
   "execution_count": null,
   "id": "065408fb",
   "metadata": {},
   "outputs": [],
   "source": []
  },
  {
   "cell_type": "code",
   "execution_count": null,
   "id": "16167e32",
   "metadata": {},
   "outputs": [],
   "source": []
  },
  {
   "cell_type": "code",
   "execution_count": null,
   "id": "ade802ce",
   "metadata": {},
   "outputs": [],
   "source": []
  },
  {
   "cell_type": "code",
   "execution_count": null,
   "id": "1dbdd459",
   "metadata": {},
   "outputs": [],
   "source": []
  },
  {
   "cell_type": "code",
   "execution_count": null,
   "id": "bc418c82",
   "metadata": {},
   "outputs": [],
   "source": []
  },
  {
   "cell_type": "code",
   "execution_count": null,
   "id": "306e00da",
   "metadata": {},
   "outputs": [],
   "source": []
  },
  {
   "cell_type": "code",
   "execution_count": null,
   "id": "e1605076",
   "metadata": {},
   "outputs": [],
   "source": []
  },
  {
   "cell_type": "code",
   "execution_count": null,
   "id": "dca8a60b",
   "metadata": {},
   "outputs": [],
   "source": []
  },
  {
   "cell_type": "code",
   "execution_count": null,
   "id": "62922402",
   "metadata": {},
   "outputs": [],
   "source": []
  },
  {
   "cell_type": "code",
   "execution_count": null,
   "id": "aeb98d34",
   "metadata": {},
   "outputs": [],
   "source": []
  },
  {
   "cell_type": "code",
   "execution_count": null,
   "id": "97091e49",
   "metadata": {},
   "outputs": [],
   "source": []
  },
  {
   "cell_type": "code",
   "execution_count": null,
   "id": "68677013",
   "metadata": {},
   "outputs": [],
   "source": []
  }
 ],
 "metadata": {
  "kernelspec": {
   "display_name": "pknu_deep_kernel",
   "language": "python",
   "name": "pknu_deep"
  },
  "language_info": {
   "codemirror_mode": {
    "name": "ipython",
    "version": 3
   },
   "file_extension": ".py",
   "mimetype": "text/x-python",
   "name": "python",
   "nbconvert_exporter": "python",
   "pygments_lexer": "ipython3",
   "version": "3.9.16"
  }
 },
 "nbformat": 4,
 "nbformat_minor": 5
}
