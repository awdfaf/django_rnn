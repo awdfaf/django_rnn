{
 "cells": [
  {
   "cell_type": "code",
   "execution_count": 10,
   "id": "7240b9d6",
   "metadata": {},
   "outputs": [],
   "source": [
    "# 패키지 정의\n",
    "import numpy as np\n",
    "# Tokenizer : 문장에서 단어 분류하기\n",
    "from tensorflow.keras.preprocessing.text import Tokenizer\n",
    "from tensorflow.keras.preprocessing.sequence import pad_sequences\n",
    "from tensorflow.keras.utils import to_categorical"
   ]
  },
  {
   "cell_type": "code",
   "execution_count": 11,
   "id": "7f11979c",
   "metadata": {},
   "outputs": [
    {
     "name": "stdout",
     "output_type": "stream",
     "text": [
      "경마장에 있는 말이 뛰고 있다\n",
      "\n",
      "그의 말이 법이다\n",
      "\n",
      "가는 말이 고와야 오는 말이 곱다\n",
      "\n",
      "\n"
     ]
    },
    {
     "data": {
      "text/plain": [
       "'경마장에 있는 말이 뛰고 있다\\n\\n그의 말이 법이다\\n\\n가는 말이 고와야 오는 말이 곱다\\n\\n'"
      ]
     },
     "execution_count": 11,
     "metadata": {},
     "output_type": "execute_result"
    }
   ],
   "source": [
    "text = \"\"\"경마장에 있는 말이 뛰고 있다\\n\n",
    "그의 말이 법이다\\n\n",
    "가는 말이 고와야 오는 말이 곱다\\n\n",
    "\"\"\"\n",
    "print(text)\n",
    "text"
   ]
  },
  {
   "cell_type": "code",
   "execution_count": 12,
   "id": "11da8e81",
   "metadata": {},
   "outputs": [
    {
     "name": "stdout",
     "output_type": "stream",
     "text": [
      "{'말이': 1, '경마장에': 2, '있는': 3, '뛰고': 4, '있다': 5, '그의': 6, '법이다': 7, '가는': 8, '고와야': 9, '오는': 10, '곱다': 11}\n"
     ]
    }
   ],
   "source": [
    "# 문장에서 단어별 딕셔너리 생성\n",
    "# 딕셔너리 값은 각 단어의 고유 인덱스 값이 됨\n",
    "tokenizer = Tokenizer()\n",
    "tokenizer.fit_on_texts([text])\n",
    "print(tokenizer.word_index)"
   ]
  },
  {
   "cell_type": "code",
   "execution_count": 13,
   "id": "60a72a6d",
   "metadata": {},
   "outputs": [
    {
     "name": "stdout",
     "output_type": "stream",
     "text": [
      "단어 인덱스 총 크기 :  12\n"
     ]
    }
   ],
   "source": [
    "### 단어 크기(갯수) 저장\n",
    "\n",
    "vocab_size = len(tokenizer.word_index)+1\n",
    "print(\"단어 인덱스 총 크기 : \", vocab_size)"
   ]
  },
  {
   "cell_type": "code",
   "execution_count": 14,
   "id": "71d21c89",
   "metadata": {},
   "outputs": [
    {
     "name": "stdout",
     "output_type": "stream",
     "text": [
      "> [2, 3, 1, 4, 5]\n",
      "-> [2, 3]\n",
      "-->> [[2, 3]]\n",
      "-> [2, 3, 1]\n",
      "-->> [[2, 3], [2, 3, 1]]\n",
      "-> [2, 3, 1, 4]\n",
      "-->> [[2, 3], [2, 3, 1], [2, 3, 1, 4]]\n",
      "-> [2, 3, 1, 4, 5]\n",
      "-->> [[2, 3], [2, 3, 1], [2, 3, 1, 4], [2, 3, 1, 4, 5]]\n",
      "> []\n",
      "> [6, 1, 7]\n",
      "-> [6, 1]\n",
      "-->> [[2, 3], [2, 3, 1], [2, 3, 1, 4], [2, 3, 1, 4, 5], [6, 1]]\n",
      "-> [6, 1, 7]\n",
      "-->> [[2, 3], [2, 3, 1], [2, 3, 1, 4], [2, 3, 1, 4, 5], [6, 1], [6, 1, 7]]\n",
      "> []\n",
      "> [8, 1, 9, 10, 1, 11]\n",
      "-> [8, 1]\n",
      "-->> [[2, 3], [2, 3, 1], [2, 3, 1, 4], [2, 3, 1, 4, 5], [6, 1], [6, 1, 7], [8, 1]]\n",
      "-> [8, 1, 9]\n",
      "-->> [[2, 3], [2, 3, 1], [2, 3, 1, 4], [2, 3, 1, 4, 5], [6, 1], [6, 1, 7], [8, 1], [8, 1, 9]]\n",
      "-> [8, 1, 9, 10]\n",
      "-->> [[2, 3], [2, 3, 1], [2, 3, 1, 4], [2, 3, 1, 4, 5], [6, 1], [6, 1, 7], [8, 1], [8, 1, 9], [8, 1, 9, 10]]\n",
      "-> [8, 1, 9, 10, 1]\n",
      "-->> [[2, 3], [2, 3, 1], [2, 3, 1, 4], [2, 3, 1, 4, 5], [6, 1], [6, 1, 7], [8, 1], [8, 1, 9], [8, 1, 9, 10], [8, 1, 9, 10, 1]]\n",
      "-> [8, 1, 9, 10, 1, 11]\n",
      "-->> [[2, 3], [2, 3, 1], [2, 3, 1, 4], [2, 3, 1, 4, 5], [6, 1], [6, 1, 7], [8, 1], [8, 1, 9], [8, 1, 9, 10], [8, 1, 9, 10, 1], [8, 1, 9, 10, 1, 11]]\n",
      "> []\n",
      "> []\n",
      "학습에 사용할 샘플의 개수 : 11\n"
     ]
    }
   ],
   "source": [
    "### 단어를 숫자값으로 변환하여 연속된 단어별로 조합하기\n",
    "### - 모든 숫자의 조합 저장할 리스트 변수 정의\n",
    "sequences = []\n",
    "\n",
    "### 한글 문장을 줄바꿈(\\n)을 기준으로 문장 나누기\n",
    "for line in text.split(\"\\n\") :\n",
    "    encoded = tokenizer.texts_to_sequences([line])[0]\n",
    "    print(\">\",encoded)\n",
    "    \n",
    "    ### 문장 내 단어별 조합하기\n",
    "    for i in range(1, len(encoded)) :\n",
    "        ### 이전 단어의 인덱스 값을 연결하여 조합하기\n",
    "        sequence = encoded[:i+1]\n",
    "        print(\"->\", encoded[:i+1])\n",
    "        \n",
    "        ### 리스트 변수에 담기\n",
    "        sequences.append(sequence)\n",
    "        print(\"-->>\", sequences)\n",
    "        \n",
    "print(\"학습에 사용할 샘플의 개수 :\", len(sequences))"
   ]
  },
  {
   "cell_type": "code",
   "execution_count": 15,
   "id": "a35391af",
   "metadata": {},
   "outputs": [
    {
     "name": "stdout",
     "output_type": "stream",
     "text": [
      "[[2, 3], [2, 3, 1], [2, 3, 1, 4], [2, 3, 1, 4, 5], [6, 1], [6, 1, 7], [8, 1], [8, 1, 9], [8, 1, 9, 10], [8, 1, 9, 10, 1], [8, 1, 9, 10, 1, 11]]\n"
     ]
    }
   ],
   "source": [
    "print(sequences)"
   ]
  },
  {
   "cell_type": "code",
   "execution_count": 16,
   "id": "115d1489",
   "metadata": {},
   "outputs": [
    {
     "name": "stdout",
     "output_type": "stream",
     "text": [
      "샘플의 최대길이 찾기 :  6\n"
     ]
    }
   ],
   "source": [
    "# 문장의 최대길이 찾기\n",
    "max_len = max(len(i) for i in sequences)\n",
    "print(\"샘플의 최대길이 찾기 : \", max_len)"
   ]
  },
  {
   "cell_type": "code",
   "execution_count": 17,
   "id": "1bd5773a",
   "metadata": {},
   "outputs": [
    {
     "name": "stdout",
     "output_type": "stream",
     "text": [
      "[[ 0  0  0  0  2  3]\n",
      " [ 0  0  0  2  3  1]\n",
      " [ 0  0  2  3  1  4]\n",
      " [ 0  2  3  1  4  5]\n",
      " [ 0  0  0  0  6  1]\n",
      " [ 0  0  0  6  1  7]\n",
      " [ 0  0  0  0  8  1]\n",
      " [ 0  0  0  8  1  9]\n",
      " [ 0  0  8  1  9 10]\n",
      " [ 0  8  1  9 10  1]\n",
      " [ 8  1  9 10  1 11]]\n"
     ]
    }
   ],
   "source": [
    "# 길이를 최대길이로 통일 시키기\n",
    "sequences = pad_sequences(sequences, maxlen=max_len,padding=\"pre\")\n",
    "print(sequences)"
   ]
  },
  {
   "cell_type": "code",
   "execution_count": 18,
   "id": "e356964a",
   "metadata": {},
   "outputs": [
    {
     "name": "stdout",
     "output_type": "stream",
     "text": [
      "(11, 5) (11,)\n",
      "[[ 0  0  0  0  2]\n",
      " [ 0  0  0  2  3]\n",
      " [ 0  0  2  3  1]\n",
      " [ 0  2  3  1  4]\n",
      " [ 0  0  0  0  6]\n",
      " [ 0  0  0  6  1]\n",
      " [ 0  0  0  0  8]\n",
      " [ 0  0  0  8  1]\n",
      " [ 0  0  8  1  9]\n",
      " [ 0  8  1  9 10]\n",
      " [ 8  1  9 10  1]]\n",
      "[ 3  1  4  5  1  7  1  9 10  1 11]\n"
     ]
    }
   ],
   "source": [
    "# 훈련 입력 데이터 : x변수\n",
    "# 훈련 타겟 데이터 : y변수\n",
    "# 각 문장의 마지막 값을 y값으로 사용\n",
    "# 배열로 만들기\n",
    "# x : (11,5)\n",
    "# y : (11,)\n",
    "sequences = np.array(sequences)\n",
    "x = sequences[:,:-1]\n",
    "y = sequences[:,-1]\n",
    "print(x.shape,y.shape)\n",
    "print(x)\n",
    "print(y)"
   ]
  },
  {
   "cell_type": "code",
   "execution_count": 20,
   "id": "8b63685b",
   "metadata": {},
   "outputs": [
    {
     "name": "stdout",
     "output_type": "stream",
     "text": [
      "(11, 12)\n",
      "[[0. 0. 0. 1. 0. 0. 0. 0. 0. 0. 0. 0.]\n",
      " [0. 1. 0. 0. 0. 0. 0. 0. 0. 0. 0. 0.]\n",
      " [0. 0. 0. 0. 1. 0. 0. 0. 0. 0. 0. 0.]\n",
      " [0. 0. 0. 0. 0. 1. 0. 0. 0. 0. 0. 0.]\n",
      " [0. 1. 0. 0. 0. 0. 0. 0. 0. 0. 0. 0.]\n",
      " [0. 0. 0. 0. 0. 0. 0. 1. 0. 0. 0. 0.]\n",
      " [0. 1. 0. 0. 0. 0. 0. 0. 0. 0. 0. 0.]\n",
      " [0. 0. 0. 0. 0. 0. 0. 0. 0. 1. 0. 0.]\n",
      " [0. 0. 0. 0. 0. 0. 0. 0. 0. 0. 1. 0.]\n",
      " [0. 1. 0. 0. 0. 0. 0. 0. 0. 0. 0. 0.]\n",
      " [0. 0. 0. 0. 0. 0. 0. 0. 0. 0. 0. 1.]]\n"
     ]
    }
   ],
   "source": [
    "y = to_categorical(y,num_classes=vocab_size)\n",
    "print(y.shape)\n",
    "print(y)"
   ]
  },
  {
   "cell_type": "code",
   "execution_count": 24,
   "id": "49d488ff",
   "metadata": {},
   "outputs": [],
   "source": [
    "from tensorflow.keras.models import Sequential\n",
    "from tensorflow.keras.layers import Embedding, Dense, SimpleRNN\n",
    "\n",
    "model = Sequential()"
   ]
  },
  {
   "cell_type": "code",
   "execution_count": 25,
   "id": "6e4fc960",
   "metadata": {},
   "outputs": [
    {
     "name": "stdout",
     "output_type": "stream",
     "text": [
      "Model: \"sequential\"\n",
      "_________________________________________________________________\n",
      " Layer (type)                Output Shape              Param #   \n",
      "=================================================================\n",
      " embedding (Embedding)       (None, None, 10)          120       \n",
      "                                                                 \n",
      " simple_rnn (SimpleRNN)      (None, 32)                1376      \n",
      "                                                                 \n",
      " dense (Dense)               (None, 12)                396       \n",
      "                                                                 \n",
      "=================================================================\n",
      "Total params: 1,892\n",
      "Trainable params: 1,892\n",
      "Non-trainable params: 0\n",
      "_________________________________________________________________\n"
     ]
    }
   ],
   "source": [
    "# vocab_size : 주요 단어 12개 \n",
    "# 10 : 단어 임베딩 벡터(출력값)\n",
    "model.add(Embedding(vocab_size, 10))\n",
    "# 32 : RNN 출력값\n",
    "model.add(SimpleRNN(32))\n",
    "# 출력계층(종속변수 y의 개수만큼 출력)\n",
    "model.add(Dense(vocab_size,activation=\"softmax\"))\n",
    "model.summary()"
   ]
  },
  {
   "cell_type": "code",
   "execution_count": 26,
   "id": "24a13902",
   "metadata": {},
   "outputs": [
    {
     "name": "stdout",
     "output_type": "stream",
     "text": [
      "Epoch 1/200\n",
      "1/1 [==============================] - 1s 520ms/step - loss: 2.4846 - accuracy: 0.0909\n",
      "Epoch 2/200\n",
      "1/1 [==============================] - 0s 3ms/step - loss: 2.4708 - accuracy: 0.0909\n",
      "Epoch 3/200\n",
      "1/1 [==============================] - 0s 6ms/step - loss: 2.4570 - accuracy: 0.0909\n",
      "Epoch 4/200\n",
      "1/1 [==============================] - 0s 4ms/step - loss: 2.4432 - accuracy: 0.2727\n",
      "Epoch 5/200\n",
      "1/1 [==============================] - 0s 4ms/step - loss: 2.4293 - accuracy: 0.2727\n",
      "Epoch 6/200\n",
      "1/1 [==============================] - 0s 3ms/step - loss: 2.4150 - accuracy: 0.3636\n",
      "Epoch 7/200\n",
      "1/1 [==============================] - 0s 3ms/step - loss: 2.4003 - accuracy: 0.3636\n",
      "Epoch 8/200\n",
      "1/1 [==============================] - 0s 3ms/step - loss: 2.3850 - accuracy: 0.3636\n",
      "Epoch 9/200\n",
      "1/1 [==============================] - 0s 3ms/step - loss: 2.3690 - accuracy: 0.3636\n",
      "Epoch 10/200\n",
      "1/1 [==============================] - 0s 3ms/step - loss: 2.3523 - accuracy: 0.3636\n",
      "Epoch 11/200\n",
      "1/1 [==============================] - 0s 3ms/step - loss: 2.3347 - accuracy: 0.3636\n",
      "Epoch 12/200\n",
      "1/1 [==============================] - 0s 4ms/step - loss: 2.3162 - accuracy: 0.3636\n",
      "Epoch 13/200\n",
      "1/1 [==============================] - 0s 3ms/step - loss: 2.2967 - accuracy: 0.3636\n",
      "Epoch 14/200\n",
      "1/1 [==============================] - 0s 3ms/step - loss: 2.2763 - accuracy: 0.3636\n",
      "Epoch 15/200\n",
      "1/1 [==============================] - 0s 3ms/step - loss: 2.2548 - accuracy: 0.3636\n",
      "Epoch 16/200\n",
      "1/1 [==============================] - 0s 3ms/step - loss: 2.2323 - accuracy: 0.3636\n",
      "Epoch 17/200\n",
      "1/1 [==============================] - 0s 3ms/step - loss: 2.2089 - accuracy: 0.3636\n",
      "Epoch 18/200\n",
      "1/1 [==============================] - 0s 3ms/step - loss: 2.1845 - accuracy: 0.3636\n",
      "Epoch 19/200\n",
      "1/1 [==============================] - 0s 4ms/step - loss: 2.1594 - accuracy: 0.3636\n",
      "Epoch 20/200\n",
      "1/1 [==============================] - 0s 3ms/step - loss: 2.1338 - accuracy: 0.3636\n",
      "Epoch 21/200\n",
      "1/1 [==============================] - 0s 3ms/step - loss: 2.1079 - accuracy: 0.3636\n",
      "Epoch 22/200\n",
      "1/1 [==============================] - 0s 3ms/step - loss: 2.0820 - accuracy: 0.3636\n",
      "Epoch 23/200\n",
      "1/1 [==============================] - 0s 2ms/step - loss: 2.0565 - accuracy: 0.3636\n",
      "Epoch 24/200\n",
      "1/1 [==============================] - 0s 3ms/step - loss: 2.0319 - accuracy: 0.3636\n",
      "Epoch 25/200\n",
      "1/1 [==============================] - 0s 3ms/step - loss: 2.0086 - accuracy: 0.3636\n",
      "Epoch 26/200\n",
      "1/1 [==============================] - 0s 3ms/step - loss: 1.9870 - accuracy: 0.3636\n",
      "Epoch 27/200\n",
      "1/1 [==============================] - 0s 4ms/step - loss: 1.9673 - accuracy: 0.3636\n",
      "Epoch 28/200\n",
      "1/1 [==============================] - 0s 3ms/step - loss: 1.9497 - accuracy: 0.3636\n",
      "Epoch 29/200\n",
      "1/1 [==============================] - 0s 2ms/step - loss: 1.9339 - accuracy: 0.3636\n",
      "Epoch 30/200\n",
      "1/1 [==============================] - 0s 3ms/step - loss: 1.9195 - accuracy: 0.3636\n",
      "Epoch 31/200\n",
      "1/1 [==============================] - 0s 3ms/step - loss: 1.9057 - accuracy: 0.3636\n",
      "Epoch 32/200\n",
      "1/1 [==============================] - 0s 3ms/step - loss: 1.8919 - accuracy: 0.3636\n",
      "Epoch 33/200\n",
      "1/1 [==============================] - 0s 5ms/step - loss: 1.8774 - accuracy: 0.3636\n",
      "Epoch 34/200\n",
      "1/1 [==============================] - 0s 3ms/step - loss: 1.8619 - accuracy: 0.3636\n",
      "Epoch 35/200\n",
      "1/1 [==============================] - 0s 3ms/step - loss: 1.8452 - accuracy: 0.3636\n",
      "Epoch 36/200\n",
      "1/1 [==============================] - 0s 3ms/step - loss: 1.8275 - accuracy: 0.3636\n",
      "Epoch 37/200\n",
      "1/1 [==============================] - 0s 3ms/step - loss: 1.8091 - accuracy: 0.3636\n",
      "Epoch 38/200\n",
      "1/1 [==============================] - 0s 2ms/step - loss: 1.7902 - accuracy: 0.3636\n",
      "Epoch 39/200\n",
      "1/1 [==============================] - 0s 3ms/step - loss: 1.7713 - accuracy: 0.3636\n",
      "Epoch 40/200\n",
      "1/1 [==============================] - 0s 2ms/step - loss: 1.7526 - accuracy: 0.3636\n",
      "Epoch 41/200\n",
      "1/1 [==============================] - 0s 4ms/step - loss: 1.7344 - accuracy: 0.3636\n",
      "Epoch 42/200\n",
      "1/1 [==============================] - 0s 3ms/step - loss: 1.7166 - accuracy: 0.3636\n",
      "Epoch 43/200\n",
      "1/1 [==============================] - 0s 2ms/step - loss: 1.6992 - accuracy: 0.3636\n",
      "Epoch 44/200\n",
      "1/1 [==============================] - 0s 5ms/step - loss: 1.6819 - accuracy: 0.3636\n",
      "Epoch 45/200\n",
      "1/1 [==============================] - 0s 3ms/step - loss: 1.6647 - accuracy: 0.4545\n",
      "Epoch 46/200\n",
      "1/1 [==============================] - 0s 2ms/step - loss: 1.6472 - accuracy: 0.4545\n",
      "Epoch 47/200\n",
      "1/1 [==============================] - 0s 4ms/step - loss: 1.6291 - accuracy: 0.4545\n",
      "Epoch 48/200\n",
      "1/1 [==============================] - 0s 3ms/step - loss: 1.6105 - accuracy: 0.4545\n",
      "Epoch 49/200\n",
      "1/1 [==============================] - 0s 2ms/step - loss: 1.5913 - accuracy: 0.5455\n",
      "Epoch 50/200\n",
      "1/1 [==============================] - 0s 3ms/step - loss: 1.5714 - accuracy: 0.5455\n",
      "Epoch 51/200\n",
      "1/1 [==============================] - 0s 5ms/step - loss: 1.5510 - accuracy: 0.5455\n",
      "Epoch 52/200\n",
      "1/1 [==============================] - 0s 3ms/step - loss: 1.5302 - accuracy: 0.5455\n",
      "Epoch 53/200\n",
      "1/1 [==============================] - 0s 3ms/step - loss: 1.5092 - accuracy: 0.5455\n",
      "Epoch 54/200\n",
      "1/1 [==============================] - 0s 3ms/step - loss: 1.4880 - accuracy: 0.5455\n",
      "Epoch 55/200\n",
      "1/1 [==============================] - 0s 3ms/step - loss: 1.4669 - accuracy: 0.5455\n",
      "Epoch 56/200\n",
      "1/1 [==============================] - 0s 3ms/step - loss: 1.4457 - accuracy: 0.5455\n",
      "Epoch 57/200\n",
      "1/1 [==============================] - 0s 5ms/step - loss: 1.4246 - accuracy: 0.5455\n",
      "Epoch 58/200\n",
      "1/1 [==============================] - 0s 4ms/step - loss: 1.4034 - accuracy: 0.5455\n",
      "Epoch 59/200\n",
      "1/1 [==============================] - 0s 3ms/step - loss: 1.3822 - accuracy: 0.5455\n",
      "Epoch 60/200\n",
      "1/1 [==============================] - 0s 3ms/step - loss: 1.3608 - accuracy: 0.5455\n",
      "Epoch 61/200\n",
      "1/1 [==============================] - 0s 3ms/step - loss: 1.3393 - accuracy: 0.5455\n",
      "Epoch 62/200\n",
      "1/1 [==============================] - 0s 5ms/step - loss: 1.3176 - accuracy: 0.5455\n",
      "Epoch 63/200\n",
      "1/1 [==============================] - 0s 4ms/step - loss: 1.2958 - accuracy: 0.5455\n",
      "Epoch 64/200\n",
      "1/1 [==============================] - 0s 3ms/step - loss: 1.2740 - accuracy: 0.5455\n",
      "Epoch 65/200\n",
      "1/1 [==============================] - 0s 4ms/step - loss: 1.2523 - accuracy: 0.5455\n",
      "Epoch 66/200\n",
      "1/1 [==============================] - 0s 4ms/step - loss: 1.2307 - accuracy: 0.6364\n",
      "Epoch 67/200\n",
      "1/1 [==============================] - 0s 3ms/step - loss: 1.2094 - accuracy: 0.6364\n",
      "Epoch 68/200\n",
      "1/1 [==============================] - 0s 3ms/step - loss: 1.1883 - accuracy: 0.6364\n",
      "Epoch 69/200\n",
      "1/1 [==============================] - 0s 3ms/step - loss: 1.1675 - accuracy: 0.7273\n",
      "Epoch 70/200\n",
      "1/1 [==============================] - 0s 3ms/step - loss: 1.1469 - accuracy: 0.7273\n",
      "Epoch 71/200\n",
      "1/1 [==============================] - 0s 2ms/step - loss: 1.1267 - accuracy: 0.7273\n",
      "Epoch 72/200\n",
      "1/1 [==============================] - 0s 3ms/step - loss: 1.1066 - accuracy: 0.7273\n",
      "Epoch 73/200\n",
      "1/1 [==============================] - 0s 2ms/step - loss: 1.0868 - accuracy: 0.7273\n",
      "Epoch 74/200\n",
      "1/1 [==============================] - 0s 2ms/step - loss: 1.0672 - accuracy: 0.7273\n",
      "Epoch 75/200\n",
      "1/1 [==============================] - 0s 3ms/step - loss: 1.0479 - accuracy: 0.7273\n",
      "Epoch 76/200\n",
      "1/1 [==============================] - 0s 3ms/step - loss: 1.0290 - accuracy: 0.7273\n",
      "Epoch 77/200\n",
      "1/1 [==============================] - 0s 3ms/step - loss: 1.0104 - accuracy: 0.7273\n",
      "Epoch 78/200\n",
      "1/1 [==============================] - 0s 3ms/step - loss: 0.9921 - accuracy: 0.7273\n",
      "Epoch 79/200\n",
      "1/1 [==============================] - 0s 3ms/step - loss: 0.9743 - accuracy: 0.7273\n",
      "Epoch 80/200\n",
      "1/1 [==============================] - 0s 3ms/step - loss: 0.9568 - accuracy: 0.7273\n",
      "Epoch 81/200\n",
      "1/1 [==============================] - 0s 4ms/step - loss: 0.9397 - accuracy: 0.7273\n",
      "Epoch 82/200\n",
      "1/1 [==============================] - 0s 2ms/step - loss: 0.9230 - accuracy: 0.7273\n",
      "Epoch 83/200\n",
      "1/1 [==============================] - 0s 2ms/step - loss: 0.9065 - accuracy: 0.7273\n",
      "Epoch 84/200\n",
      "1/1 [==============================] - 0s 3ms/step - loss: 0.8904 - accuracy: 0.7273\n",
      "Epoch 85/200\n",
      "1/1 [==============================] - 0s 3ms/step - loss: 0.8746 - accuracy: 0.7273\n",
      "Epoch 86/200\n",
      "1/1 [==============================] - 0s 3ms/step - loss: 0.8591 - accuracy: 0.7273\n",
      "Epoch 87/200\n",
      "1/1 [==============================] - 0s 3ms/step - loss: 0.8440 - accuracy: 0.7273\n",
      "Epoch 88/200\n",
      "1/1 [==============================] - 0s 3ms/step - loss: 0.8293 - accuracy: 0.7273\n",
      "Epoch 89/200\n",
      "1/1 [==============================] - 0s 3ms/step - loss: 0.8149 - accuracy: 0.7273\n",
      "Epoch 90/200\n",
      "1/1 [==============================] - 0s 3ms/step - loss: 0.8009 - accuracy: 0.7273\n",
      "Epoch 91/200\n",
      "1/1 [==============================] - 0s 3ms/step - loss: 0.7873 - accuracy: 0.7273\n",
      "Epoch 92/200\n",
      "1/1 [==============================] - 0s 2ms/step - loss: 0.7740 - accuracy: 0.7273\n",
      "Epoch 93/200\n",
      "1/1 [==============================] - 0s 3ms/step - loss: 0.7611 - accuracy: 0.7273\n",
      "Epoch 94/200\n",
      "1/1 [==============================] - 0s 3ms/step - loss: 0.7485 - accuracy: 0.7273\n",
      "Epoch 95/200\n",
      "1/1 [==============================] - 0s 2ms/step - loss: 0.7362 - accuracy: 0.8182\n",
      "Epoch 96/200\n",
      "1/1 [==============================] - 0s 3ms/step - loss: 0.7243 - accuracy: 0.8182\n",
      "Epoch 97/200\n",
      "1/1 [==============================] - 0s 3ms/step - loss: 0.7128 - accuracy: 0.8182\n",
      "Epoch 98/200\n",
      "1/1 [==============================] - 0s 2ms/step - loss: 0.7015 - accuracy: 0.8182\n",
      "Epoch 99/200\n",
      "1/1 [==============================] - 0s 3ms/step - loss: 0.6905 - accuracy: 0.8182\n",
      "Epoch 100/200\n",
      "1/1 [==============================] - 0s 2ms/step - loss: 0.6797 - accuracy: 0.8182\n",
      "Epoch 101/200\n",
      "1/1 [==============================] - 0s 3ms/step - loss: 0.6692 - accuracy: 0.8182\n",
      "Epoch 102/200\n",
      "1/1 [==============================] - 0s 2ms/step - loss: 0.6590 - accuracy: 0.8182\n",
      "Epoch 103/200\n",
      "1/1 [==============================] - 0s 3ms/step - loss: 0.6489 - accuracy: 0.8182\n",
      "Epoch 104/200\n",
      "1/1 [==============================] - 0s 3ms/step - loss: 0.6392 - accuracy: 0.8182\n",
      "Epoch 105/200\n",
      "1/1 [==============================] - 0s 3ms/step - loss: 0.6296 - accuracy: 0.8182\n",
      "Epoch 106/200\n",
      "1/1 [==============================] - 0s 3ms/step - loss: 0.6202 - accuracy: 0.8182\n",
      "Epoch 107/200\n",
      "1/1 [==============================] - 0s 3ms/step - loss: 0.6111 - accuracy: 0.8182\n",
      "Epoch 108/200\n",
      "1/1 [==============================] - 0s 3ms/step - loss: 0.6021 - accuracy: 0.8182\n",
      "Epoch 109/200\n",
      "1/1 [==============================] - 0s 3ms/step - loss: 0.5934 - accuracy: 0.8182\n",
      "Epoch 110/200\n",
      "1/1 [==============================] - 0s 3ms/step - loss: 0.5848 - accuracy: 0.8182\n",
      "Epoch 111/200\n",
      "1/1 [==============================] - 0s 3ms/step - loss: 0.5764 - accuracy: 0.8182\n",
      "Epoch 112/200\n",
      "1/1 [==============================] - 0s 2ms/step - loss: 0.5682 - accuracy: 0.8182\n",
      "Epoch 113/200\n",
      "1/1 [==============================] - 0s 2ms/step - loss: 0.5601 - accuracy: 0.8182\n",
      "Epoch 114/200\n",
      "1/1 [==============================] - 0s 2ms/step - loss: 0.5522 - accuracy: 0.8182\n",
      "Epoch 115/200\n",
      "1/1 [==============================] - 0s 2ms/step - loss: 0.5444 - accuracy: 0.8182\n",
      "Epoch 116/200\n",
      "1/1 [==============================] - 0s 2ms/step - loss: 0.5367 - accuracy: 0.8182\n",
      "Epoch 117/200\n",
      "1/1 [==============================] - 0s 2ms/step - loss: 0.5293 - accuracy: 0.8182\n",
      "Epoch 118/200\n",
      "1/1 [==============================] - 0s 3ms/step - loss: 0.5219 - accuracy: 0.8182\n",
      "Epoch 119/200\n",
      "1/1 [==============================] - 0s 4ms/step - loss: 0.5147 - accuracy: 0.8182\n",
      "Epoch 120/200\n",
      "1/1 [==============================] - 0s 3ms/step - loss: 0.5076 - accuracy: 0.8182\n",
      "Epoch 121/200\n",
      "1/1 [==============================] - 0s 3ms/step - loss: 0.5006 - accuracy: 0.8182\n",
      "Epoch 122/200\n",
      "1/1 [==============================] - 0s 3ms/step - loss: 0.4938 - accuracy: 0.8182\n",
      "Epoch 123/200\n",
      "1/1 [==============================] - 0s 3ms/step - loss: 0.4871 - accuracy: 0.9091\n",
      "Epoch 124/200\n",
      "1/1 [==============================] - 0s 3ms/step - loss: 0.4804 - accuracy: 0.9091\n",
      "Epoch 125/200\n",
      "1/1 [==============================] - 0s 3ms/step - loss: 0.4739 - accuracy: 0.9091\n",
      "Epoch 126/200\n",
      "1/1 [==============================] - 0s 2ms/step - loss: 0.4675 - accuracy: 0.9091\n",
      "Epoch 127/200\n",
      "1/1 [==============================] - 0s 3ms/step - loss: 0.4612 - accuracy: 0.9091\n",
      "Epoch 128/200\n",
      "1/1 [==============================] - 0s 2ms/step - loss: 0.4550 - accuracy: 0.9091\n",
      "Epoch 129/200\n",
      "1/1 [==============================] - 0s 3ms/step - loss: 0.4489 - accuracy: 0.9091\n",
      "Epoch 130/200\n",
      "1/1 [==============================] - 0s 2ms/step - loss: 0.4429 - accuracy: 0.9091\n",
      "Epoch 131/200\n",
      "1/1 [==============================] - 0s 3ms/step - loss: 0.4369 - accuracy: 0.9091\n",
      "Epoch 132/200\n",
      "1/1 [==============================] - 0s 3ms/step - loss: 0.4310 - accuracy: 0.9091\n",
      "Epoch 133/200\n",
      "1/1 [==============================] - 0s 3ms/step - loss: 0.4253 - accuracy: 0.9091\n",
      "Epoch 134/200\n",
      "1/1 [==============================] - 0s 3ms/step - loss: 0.4195 - accuracy: 0.9091\n",
      "Epoch 135/200\n",
      "1/1 [==============================] - 0s 3ms/step - loss: 0.4139 - accuracy: 0.9091\n",
      "Epoch 136/200\n",
      "1/1 [==============================] - 0s 3ms/step - loss: 0.4084 - accuracy: 0.9091\n",
      "Epoch 137/200\n",
      "1/1 [==============================] - 0s 3ms/step - loss: 0.4029 - accuracy: 0.9091\n",
      "Epoch 138/200\n",
      "1/1 [==============================] - 0s 2ms/step - loss: 0.3974 - accuracy: 0.9091\n",
      "Epoch 139/200\n",
      "1/1 [==============================] - 0s 3ms/step - loss: 0.3921 - accuracy: 0.9091\n",
      "Epoch 140/200\n",
      "1/1 [==============================] - 0s 3ms/step - loss: 0.3868 - accuracy: 0.9091\n",
      "Epoch 141/200\n",
      "1/1 [==============================] - 0s 2ms/step - loss: 0.3816 - accuracy: 0.9091\n",
      "Epoch 142/200\n",
      "1/1 [==============================] - 0s 3ms/step - loss: 0.3764 - accuracy: 0.9091\n",
      "Epoch 143/200\n",
      "1/1 [==============================] - 0s 3ms/step - loss: 0.3713 - accuracy: 0.9091\n",
      "Epoch 144/200\n",
      "1/1 [==============================] - 0s 3ms/step - loss: 0.3663 - accuracy: 0.9091\n",
      "Epoch 145/200\n",
      "1/1 [==============================] - 0s 2ms/step - loss: 0.3613 - accuracy: 0.9091\n",
      "Epoch 146/200\n",
      "1/1 [==============================] - 0s 3ms/step - loss: 0.3564 - accuracy: 0.9091\n",
      "Epoch 147/200\n",
      "1/1 [==============================] - 0s 3ms/step - loss: 0.3516 - accuracy: 0.9091\n",
      "Epoch 148/200\n",
      "1/1 [==============================] - 0s 3ms/step - loss: 0.3468 - accuracy: 0.9091\n",
      "Epoch 149/200\n",
      "1/1 [==============================] - 0s 2ms/step - loss: 0.3421 - accuracy: 0.9091\n",
      "Epoch 150/200\n",
      "1/1 [==============================] - 0s 3ms/step - loss: 0.3374 - accuracy: 0.9091\n",
      "Epoch 151/200\n",
      "1/1 [==============================] - 0s 3ms/step - loss: 0.3328 - accuracy: 0.9091\n",
      "Epoch 152/200\n",
      "1/1 [==============================] - 0s 2ms/step - loss: 0.3282 - accuracy: 0.9091\n",
      "Epoch 153/200\n",
      "1/1 [==============================] - 0s 3ms/step - loss: 0.3237 - accuracy: 0.9091\n",
      "Epoch 154/200\n",
      "1/1 [==============================] - 0s 3ms/step - loss: 0.3193 - accuracy: 0.9091\n",
      "Epoch 155/200\n",
      "1/1 [==============================] - 0s 3ms/step - loss: 0.3149 - accuracy: 0.9091\n",
      "Epoch 156/200\n",
      "1/1 [==============================] - 0s 3ms/step - loss: 0.3105 - accuracy: 0.9091\n",
      "Epoch 157/200\n",
      "1/1 [==============================] - 0s 3ms/step - loss: 0.3063 - accuracy: 0.9091\n",
      "Epoch 158/200\n",
      "1/1 [==============================] - 0s 3ms/step - loss: 0.3020 - accuracy: 0.9091\n",
      "Epoch 159/200\n",
      "1/1 [==============================] - 0s 3ms/step - loss: 0.2979 - accuracy: 0.9091\n",
      "Epoch 160/200\n",
      "1/1 [==============================] - 0s 3ms/step - loss: 0.2938 - accuracy: 0.9091\n",
      "Epoch 161/200\n",
      "1/1 [==============================] - 0s 3ms/step - loss: 0.2897 - accuracy: 0.9091\n",
      "Epoch 162/200\n",
      "1/1 [==============================] - 0s 3ms/step - loss: 0.2857 - accuracy: 0.9091\n",
      "Epoch 163/200\n",
      "1/1 [==============================] - 0s 3ms/step - loss: 0.2817 - accuracy: 0.9091\n",
      "Epoch 164/200\n",
      "1/1 [==============================] - 0s 3ms/step - loss: 0.2778 - accuracy: 0.9091\n",
      "Epoch 165/200\n",
      "1/1 [==============================] - 0s 3ms/step - loss: 0.2740 - accuracy: 0.9091\n",
      "Epoch 166/200\n",
      "1/1 [==============================] - 0s 2ms/step - loss: 0.2702 - accuracy: 0.9091\n",
      "Epoch 167/200\n"
     ]
    },
    {
     "name": "stdout",
     "output_type": "stream",
     "text": [
      "1/1 [==============================] - 0s 3ms/step - loss: 0.2665 - accuracy: 0.9091\n",
      "Epoch 168/200\n",
      "1/1 [==============================] - 0s 3ms/step - loss: 0.2628 - accuracy: 0.9091\n",
      "Epoch 169/200\n",
      "1/1 [==============================] - 0s 3ms/step - loss: 0.2591 - accuracy: 0.9091\n",
      "Epoch 170/200\n",
      "1/1 [==============================] - 0s 3ms/step - loss: 0.2555 - accuracy: 0.9091\n",
      "Epoch 171/200\n",
      "1/1 [==============================] - 0s 3ms/step - loss: 0.2520 - accuracy: 0.9091\n",
      "Epoch 172/200\n",
      "1/1 [==============================] - 0s 3ms/step - loss: 0.2485 - accuracy: 0.9091\n",
      "Epoch 173/200\n",
      "1/1 [==============================] - 0s 3ms/step - loss: 0.2451 - accuracy: 0.9091\n",
      "Epoch 174/200\n",
      "1/1 [==============================] - 0s 2ms/step - loss: 0.2417 - accuracy: 0.9091\n",
      "Epoch 175/200\n",
      "1/1 [==============================] - 0s 3ms/step - loss: 0.2383 - accuracy: 0.9091\n",
      "Epoch 176/200\n",
      "1/1 [==============================] - 0s 3ms/step - loss: 0.2350 - accuracy: 0.9091\n",
      "Epoch 177/200\n",
      "1/1 [==============================] - 0s 3ms/step - loss: 0.2317 - accuracy: 0.9091\n",
      "Epoch 178/200\n",
      "1/1 [==============================] - 0s 3ms/step - loss: 0.2285 - accuracy: 0.9091\n",
      "Epoch 179/200\n",
      "1/1 [==============================] - 0s 2ms/step - loss: 0.2254 - accuracy: 0.9091\n",
      "Epoch 180/200\n",
      "1/1 [==============================] - 0s 2ms/step - loss: 0.2222 - accuracy: 0.9091\n",
      "Epoch 181/200\n",
      "1/1 [==============================] - 0s 3ms/step - loss: 0.2191 - accuracy: 0.9091\n",
      "Epoch 182/200\n",
      "1/1 [==============================] - 0s 2ms/step - loss: 0.2161 - accuracy: 0.9091\n",
      "Epoch 183/200\n",
      "1/1 [==============================] - 0s 3ms/step - loss: 0.2131 - accuracy: 0.9091\n",
      "Epoch 184/200\n",
      "1/1 [==============================] - 0s 3ms/step - loss: 0.2101 - accuracy: 0.9091\n",
      "Epoch 185/200\n",
      "1/1 [==============================] - 0s 3ms/step - loss: 0.2072 - accuracy: 0.9091\n",
      "Epoch 186/200\n",
      "1/1 [==============================] - 0s 2ms/step - loss: 0.2043 - accuracy: 0.9091\n",
      "Epoch 187/200\n",
      "1/1 [==============================] - 0s 3ms/step - loss: 0.2014 - accuracy: 0.9091\n",
      "Epoch 188/200\n",
      "1/1 [==============================] - 0s 3ms/step - loss: 0.1986 - accuracy: 0.9091\n",
      "Epoch 189/200\n",
      "1/1 [==============================] - 0s 3ms/step - loss: 0.1958 - accuracy: 0.9091\n",
      "Epoch 190/200\n",
      "1/1 [==============================] - 0s 2ms/step - loss: 0.1931 - accuracy: 0.9091\n",
      "Epoch 191/200\n",
      "1/1 [==============================] - 0s 2ms/step - loss: 0.1904 - accuracy: 0.9091\n",
      "Epoch 192/200\n",
      "1/1 [==============================] - 0s 2ms/step - loss: 0.1877 - accuracy: 0.9091\n",
      "Epoch 193/200\n",
      "1/1 [==============================] - 0s 3ms/step - loss: 0.1851 - accuracy: 0.9091\n",
      "Epoch 194/200\n",
      "1/1 [==============================] - 0s 2ms/step - loss: 0.1824 - accuracy: 1.0000\n",
      "Epoch 195/200\n",
      "1/1 [==============================] - 0s 2ms/step - loss: 0.1799 - accuracy: 1.0000\n",
      "Epoch 196/200\n",
      "1/1 [==============================] - 0s 2ms/step - loss: 0.1773 - accuracy: 1.0000\n",
      "Epoch 197/200\n",
      "1/1 [==============================] - 0s 2ms/step - loss: 0.1748 - accuracy: 1.0000\n",
      "Epoch 198/200\n",
      "1/1 [==============================] - 0s 3ms/step - loss: 0.1723 - accuracy: 1.0000\n",
      "Epoch 199/200\n",
      "1/1 [==============================] - 0s 3ms/step - loss: 0.1698 - accuracy: 1.0000\n",
      "Epoch 200/200\n",
      "1/1 [==============================] - 0s 3ms/step - loss: 0.1674 - accuracy: 1.0000\n"
     ]
    },
    {
     "data": {
      "text/plain": [
       "<keras.callbacks.History at 0x1b55ffd4820>"
      ]
     },
     "execution_count": 26,
     "metadata": {},
     "output_type": "execute_result"
    }
   ],
   "source": [
    "# 모델 설정 : 컴파일\n",
    "model.compile(optimizer=\"adam\",\n",
    "             loss=\"categorical_crossentropy\",\n",
    "             metrics=[\"accuracy\"])\n",
    "# 모델 훈련\n",
    "# verbose : 출력 형태 지정\n",
    "model.fit(x,y,epochs=200,verbose=1)"
   ]
  },
  {
   "cell_type": "code",
   "execution_count": null,
   "id": "ed05ab46",
   "metadata": {},
   "outputs": [],
   "source": [
    "# 모델 저장 및 불러오기\n",
    "\n",
    "# 훈련 모델 저장하기\n",
    "keras.models.save_model(\"./model/django_rnn_model.h5\")"
   ]
  },
  {
   "cell_type": "code",
   "execution_count": null,
   "id": "e3e36314",
   "metadata": {},
   "outputs": [],
   "source": [
    "# "
   ]
  },
  {
   "cell_type": "code",
   "execution_count": 28,
   "id": "a4f12aac",
   "metadata": {},
   "outputs": [],
   "source": [
    "# 예측할 단어로부터 다음 단어를 예측하기위한 함수\n",
    "# 매개변수 : 모델, 토큰나이저, 전달받은 단어, 반복할 횟수\n",
    "def sentence_generator(model, tokenizer, current_word, n):\n",
    "    init_word = current_word\n",
    "    sentence = \"\"\n",
    "    \n",
    "    # 전달받은 값 n번 반복시키기\n",
    "    for _ in range(n):\n",
    "        # 현재입력 받은 단어에 대한 정수 인코딩\n",
    "        encoded = tokenizer.texts_to_sequences([current_word])[0]\n",
    "        # 단어 자르기 : x값은 5개\n",
    "        encoded = pad_sequences([encoded], maxlen=5, padding=\"pre\")\n",
    "        # 에측하기\n",
    "        result = model.predict(encoded, verbose=0)\n",
    "        # 예측결과 중 가장 빈도가 큰 값 결정\n",
    "        result = np.argmax(result, axis=1)\n",
    "        \n",
    "        for word, index in tokenizer.word_index.items():\n",
    "            # 만약 예측한 단어와 인덱스와 동일한 단어가 있다면 break\n",
    "            if index == result:\n",
    "                break\n",
    "                \n",
    "        # 현재 입력된 단어와 예측 단어 조합하기\n",
    "        current_word = current_word + \" \" + word\n",
    "        \n",
    "        # 예측 단어 조합을 변수에 저장\n",
    "        sentence = sentence + \" \" + word\n",
    "    # 함수가 전달받은 단어에 대한 조합할 단어 합치기\n",
    "    sentence = init_word + sentence\n",
    "    \n",
    "    return sentence"
   ]
  },
  {
   "cell_type": "code",
   "execution_count": 29,
   "id": "1d3dbf22",
   "metadata": {},
   "outputs": [
    {
     "name": "stdout",
     "output_type": "stream",
     "text": [
      "경마장에 있는 말이 뛰고 있다\n"
     ]
    }
   ],
   "source": [
    "# 함수 실행하기\n",
    "print(sentence_generator(model,tokenizer,\"경마장에\",4))"
   ]
  },
  {
   "cell_type": "code",
   "execution_count": 30,
   "id": "178ddc43",
   "metadata": {},
   "outputs": [
    {
     "name": "stdout",
     "output_type": "stream",
     "text": [
      "Model: \"sequential\"\n",
      "_________________________________________________________________\n",
      " Layer (type)                Output Shape              Param #   \n",
      "=================================================================\n",
      " embedding (Embedding)       (None, None, 10)          120       \n",
      "                                                                 \n",
      " simple_rnn (SimpleRNN)      (None, 32)                1376      \n",
      "                                                                 \n",
      " dense (Dense)               (None, 12)                396       \n",
      "                                                                 \n",
      "=================================================================\n",
      "Total params: 1,892\n",
      "Trainable params: 1,892\n",
      "Non-trainable params: 0\n",
      "_________________________________________________________________\n"
     ]
    }
   ],
   "source": [
    "model.summary()"
   ]
  },
  {
   "cell_type": "code",
   "execution_count": null,
   "id": "84d59865",
   "metadata": {},
   "outputs": [],
   "source": []
  },
  {
   "cell_type": "code",
   "execution_count": null,
   "id": "30dcf59e",
   "metadata": {},
   "outputs": [],
   "source": []
  },
  {
   "cell_type": "code",
   "execution_count": null,
   "id": "6dd3ebc2",
   "metadata": {},
   "outputs": [],
   "source": []
  },
  {
   "cell_type": "code",
   "execution_count": null,
   "id": "c0b149a4",
   "metadata": {},
   "outputs": [],
   "source": []
  },
  {
   "cell_type": "code",
   "execution_count": null,
   "id": "fcd1a92d",
   "metadata": {},
   "outputs": [],
   "source": []
  },
  {
   "cell_type": "code",
   "execution_count": null,
   "id": "7ec7af88",
   "metadata": {},
   "outputs": [],
   "source": []
  },
  {
   "cell_type": "code",
   "execution_count": null,
   "id": "873d2baa",
   "metadata": {},
   "outputs": [],
   "source": []
  },
  {
   "cell_type": "code",
   "execution_count": null,
   "id": "91b28904",
   "metadata": {},
   "outputs": [],
   "source": []
  },
  {
   "cell_type": "code",
   "execution_count": null,
   "id": "065408fb",
   "metadata": {},
   "outputs": [],
   "source": []
  },
  {
   "cell_type": "code",
   "execution_count": null,
   "id": "16167e32",
   "metadata": {},
   "outputs": [],
   "source": []
  },
  {
   "cell_type": "code",
   "execution_count": null,
   "id": "ade802ce",
   "metadata": {},
   "outputs": [],
   "source": []
  },
  {
   "cell_type": "code",
   "execution_count": null,
   "id": "1dbdd459",
   "metadata": {},
   "outputs": [],
   "source": []
  },
  {
   "cell_type": "code",
   "execution_count": null,
   "id": "bc418c82",
   "metadata": {},
   "outputs": [],
   "source": []
  },
  {
   "cell_type": "code",
   "execution_count": null,
   "id": "306e00da",
   "metadata": {},
   "outputs": [],
   "source": []
  },
  {
   "cell_type": "code",
   "execution_count": null,
   "id": "e1605076",
   "metadata": {},
   "outputs": [],
   "source": []
  },
  {
   "cell_type": "code",
   "execution_count": null,
   "id": "dca8a60b",
   "metadata": {},
   "outputs": [],
   "source": []
  },
  {
   "cell_type": "code",
   "execution_count": null,
   "id": "62922402",
   "metadata": {},
   "outputs": [],
   "source": []
  },
  {
   "cell_type": "code",
   "execution_count": null,
   "id": "aeb98d34",
   "metadata": {},
   "outputs": [],
   "source": []
  },
  {
   "cell_type": "code",
   "execution_count": null,
   "id": "97091e49",
   "metadata": {},
   "outputs": [],
   "source": []
  },
  {
   "cell_type": "code",
   "execution_count": null,
   "id": "68677013",
   "metadata": {},
   "outputs": [],
   "source": []
  }
 ],
 "metadata": {
  "kernelspec": {
   "display_name": "pknu_deep_kernel",
   "language": "python",
   "name": "pknu_deep"
  },
  "language_info": {
   "codemirror_mode": {
    "name": "ipython",
    "version": 3
   },
   "file_extension": ".py",
   "mimetype": "text/x-python",
   "name": "python",
   "nbconvert_exporter": "python",
   "pygments_lexer": "ipython3",
   "version": "3.9.16"
  }
 },
 "nbformat": 4,
 "nbformat_minor": 5
}
